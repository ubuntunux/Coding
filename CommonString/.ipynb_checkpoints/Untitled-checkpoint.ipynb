{
 "cells": [
  {
   "cell_type": "code",
   "execution_count": 36,
   "metadata": {
    "collapsed": false
   },
   "outputs": [
    {
     "name": "stdout",
     "output_type": "stream",
     "text": [
      "7\n",
      "tograph\n"
     ]
    }
   ],
   "source": [
    "def findCommonString(s, lowerLengthString):\n",
    "    if len(lowerLengthString) > len(s):\n",
    "        s, lowerLengthString = lowerLengthString, s\n",
    "\n",
    "    n = len(lowerLengthString)\n",
    "    for i in range(n):\n",
    "        for j in range(i+1):\n",
    "            token = lowerLengthString[j:n-i+j]\n",
    "            if token in s:\n",
    "                print(len(token))\n",
    "                print(token)\n",
    "                return\n",
    "    else:\n",
    "        print(\"Not found.\")\n",
    "\n",
    "# let's find common string.\n",
    "findCommonString(\"photography\", \"autograph\")\n"
   ]
  },
  {
   "cell_type": "code",
   "execution_count": 25,
   "metadata": {
    "collapsed": false
   },
   "outputs": [
    {
     "name": "stdout",
     "output_type": "stream",
     "text": [
      "9\n"
     ]
    }
   ],
   "source": [
    "for i in range(10):\n",
    "    j=i\n",
    "print(j)"
   ]
  }
 ],
 "metadata": {
  "anaconda-cloud": {},
  "kernelspec": {
   "display_name": "Python [Root]",
   "language": "python",
   "name": "Python [Root]"
  },
  "language_info": {
   "codemirror_mode": {
    "name": "ipython",
    "version": 3
   },
   "file_extension": ".py",
   "mimetype": "text/x-python",
   "name": "python",
   "nbconvert_exporter": "python",
   "pygments_lexer": "ipython3",
   "version": "3.5.2"
  }
 },
 "nbformat": 4,
 "nbformat_minor": 0
}
