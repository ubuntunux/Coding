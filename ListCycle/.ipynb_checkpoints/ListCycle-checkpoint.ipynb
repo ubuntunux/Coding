{
 "cells": [
  {
   "cell_type": "markdown",
   "metadata": {},
   "source": [
    "# 문제\n",
    "\n",
    "아래 조건에 따라 리스트를 회전하는 프로그램을 작성하시오.\n",
    "\n",
    "조건\n",
    "\n",
    "입력값은 한 행의 문자열로 주어지며, 각 값은 공백으로 구분된다.  \n",
    "첫 번째 값은 리스트를 회전하는 양과 방향(음수의 경우 좌측으로, 양수의 경우 우측으로 회전)이다. \n",
    "첫 번째 값을 제외한 나머지 값은 리스트의 각 항목의 값이다.  \n",
    "회전된 리스트를 문자열로 출력한다.  \n",
    "구현에 이용할 자료구조에 대한 조건이나 제약은 없다.  \n",
    "입력되는 리스트의 항목의 개수는 유한한다.  \n",
    "입출력예\n",
    "\n",
    "예 1)\n",
    "입력: 1 10 20 30 40 50  \n",
    "출력: 50 10 20 30 40  \n",
    "\n",
    "예 2) \n",
    "입력: 4 가 나 다 라 마 바 사  \n",
    "출력: 라 마 바 사 가 나 다  \n",
    "\n",
    "예 3)  \n",
    "입력: -2 A B C D E F G  \n",
    "출력: C D E F G A B  \n",
    "\n",
    "예 4)  \n",
    "입력: 0 똘기 떵이 호치 새초미  \n",
    "출력: 똘기 떵이 호치 새초미  "
   ]
  },
  {
   "cell_type": "markdown",
   "metadata": {},
   "source": [
    "### Python3"
   ]
  },
  {
   "cell_type": "code",
   "execution_count": 89,
   "metadata": {
    "collapsed": false
   },
   "outputs": [
    {
     "name": "stdout",
     "output_type": "stream",
     "text": [
      "Input : -2 A B C D E F G\n",
      "Output : C D E F G A B\n"
     ]
    }
   ],
   "source": [
    "import collections\n",
    "datas = input(\"Input : \").split(\" \")\n",
    "cycleList = collections.deque(datas[1:])\n",
    "cycleList.rotate(int(datas[0]))\n",
    "print(\"Output :\", \" \".join(cycleList))"
   ]
  }
 ],
 "metadata": {
  "kernelspec": {
   "display_name": "Python 3",
   "language": "python",
   "name": "python3"
  },
  "language_info": {
   "codemirror_mode": {
    "name": "ipython",
    "version": 3
   },
   "file_extension": ".py",
   "mimetype": "text/x-python",
   "name": "python",
   "nbconvert_exporter": "python",
   "pygments_lexer": "ipython3",
   "version": "3.5.1"
  }
 },
 "nbformat": 4,
 "nbformat_minor": 0
}
