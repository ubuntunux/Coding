{
 "cells": [
  {
   "cell_type": "markdown",
   "metadata": {},
   "source": [
    "# 문제\n",
    "\n",
    "아래 조건에 따라 리스트를 회전하는 프로그램을 작성하시오.\n",
    "\n",
    "조건\n",
    "\n",
    "입력값은 한 행의 문자열로 주어지며, 각 값은 공백으로 구분된다.  \n",
    "첫 번째 값은 리스트를 회전하는 양과 방향(음수의 경우 좌측으로, 양수의 경우 우측으로 회전)이다. \n",
    "첫 번째 값을 제외한 나머지 값은 리스트의 각 항목의 값이다.  \n",
    "회전된 리스트를 문자열로 출력한다.  \n",
    "구현에 이용할 자료구조에 대한 조건이나 제약은 없다.  \n",
    "입력되는 리스트의 항목의 개수는 유한한다.  \n",
    "입출력예\n",
    "\n",
    "예 1)\n",
    "입력: 1 10 20 30 40 50  \n",
    "출력: 50 10 20 30 40  \n",
    "\n",
    "예 2) \n",
    "입력: 4 가 나 다 라 마 바 사  \n",
    "출력: 라 마 바 사 가 나 다  \n",
    "\n",
    "예 3)  \n",
    "입력: -2 A B C D E F G  \n",
    "출력: C D E F G A B  \n",
    "\n",
    "예 4)  \n",
    "입력: 0 똘기 떵이 호치 새초미  \n",
    "출력: 똘기 떵이 호치 새초미  "
   ]
  },
  {
   "cell_type": "markdown",
   "metadata": {},
   "source": [
    "### Python3"
   ]
  },
  {
   "cell_type": "code",
   "execution_count": 89,
   "metadata": {
    "collapsed": false,
    "scrolled": true
   },
   "outputs": [
    {
     "name": "stdout",
     "output_type": "stream",
     "text": [
      "Input : -2 A B C D E F G\n",
      "Output : C D E F G A B\n"
     ]
    }
   ],
   "source": [
    "import collections\n",
    "datas = input(\"Input : \").split(\" \")\n",
    "cycleList = collections.deque(datas[1:])\n",
    "cycleList.rotate(int(datas[0]))\n",
    "print(\"Output :\", \" \".join(cycleList))"
   ]
  },
  {
   "cell_type": "markdown",
   "metadata": {},
   "source": [
    "### Numpy + Cuda"
   ]
  },
  {
   "cell_type": "code",
   "execution_count": 101,
   "metadata": {
    "collapsed": false
   },
   "outputs": [
    {
     "ename": "AttributeError",
     "evalue": "'function' object has no attribute 'configure'",
     "output_type": "error",
     "traceback": [
      "\u001b[1;31m---------------------------------------------------------------------------\u001b[0m",
      "\u001b[1;31mAttributeError\u001b[0m                            Traceback (most recent call last)",
      "\u001b[1;32m<ipython-input-101-c2c7d56bea80>\u001b[0m in \u001b[0;36m<module>\u001b[1;34m()\u001b[0m\n\u001b[0;32m     14\u001b[0m \u001b[0mb\u001b[0m \u001b[1;33m=\u001b[0m \u001b[0mnp\u001b[0m\u001b[1;33m.\u001b[0m\u001b[0mempty_like\u001b[0m\u001b[1;33m(\u001b[0m\u001b[0ma\u001b[0m\u001b[1;33m)\u001b[0m\u001b[1;33m\u001b[0m\u001b[0m\n\u001b[0;32m     15\u001b[0m \u001b[1;33m\u001b[0m\u001b[0m\n\u001b[1;32m---> 16\u001b[1;33m \u001b[0mcuda_generate_configured\u001b[0m \u001b[1;33m=\u001b[0m \u001b[0mcuda_generate\u001b[0m\u001b[1;33m.\u001b[0m\u001b[0mconfigure\u001b[0m\u001b[1;33m(\u001b[0m\u001b[0mgriddim\u001b[0m\u001b[1;33m,\u001b[0m \u001b[0mblockdim\u001b[0m\u001b[1;33m)\u001b[0m\u001b[1;33m\u001b[0m\u001b[0m\n\u001b[0m\u001b[0;32m     17\u001b[0m \u001b[1;32mimport\u001b[0m \u001b[0mtime\u001b[0m\u001b[1;33m\u001b[0m\u001b[0m\n\u001b[0;32m     18\u001b[0m \u001b[0mts\u001b[0m \u001b[1;33m=\u001b[0m \u001b[0mtime\u001b[0m\u001b[1;33m.\u001b[0m\u001b[0mtime\u001b[0m\u001b[1;33m(\u001b[0m\u001b[1;33m)\u001b[0m\u001b[1;33m\u001b[0m\u001b[0m\n",
      "\u001b[1;31mAttributeError\u001b[0m: 'function' object has no attribute 'configure'"
     ]
    }
   ],
   "source": [
    "import numpy as np\n",
    "from accelerate.cuda import cuda\n",
    "\n",
    "@cuda.jit\n",
    "def cuda_generate(a, b):\n",
    "    i = cuda.grid(1)\n",
    "    b[i] = a[i]\n",
    "\n",
    "griddim = 50, 1\n",
    "blockdim = 100, 1, 1\n",
    "\n",
    "N = griddim[0] * blockdim[0]\n",
    "a = np.array(range(1,5001), dtype=np.int32)\n",
    "b = np.empty_like(a)\n",
    "\n",
    "cuda_generate_configured = cuda_generate.configure(griddim, blockdim)\n",
    "import time\n",
    "ts = time.time()\n",
    "cuda_generate_configured(a, b)\n",
    "te = time.time() - ts\n",
    "print(te)\n",
    "print(sum(np.setdiff1d(a,b)))"
   ]
  }
 ],
 "metadata": {
  "kernelspec": {
   "display_name": "Python 3",
   "language": "python",
   "name": "python3"
  },
  "language_info": {
   "codemirror_mode": {
    "name": "ipython",
    "version": 3
   },
   "file_extension": ".py",
   "mimetype": "text/x-python",
   "name": "python",
   "nbconvert_exporter": "python",
   "pygments_lexer": "ipython3",
   "version": "3.5.1"
  }
 },
 "nbformat": 4,
 "nbformat_minor": 0
}
