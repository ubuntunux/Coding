{
 "cells": [
  {
   "cell_type": "markdown",
   "metadata": {},
   "source": [
    "# 문제\n",
    "\n",
    "어떤 자연수 n이 있을 때, d(n)을 n의 각 자릿수 숫자들과 n 자신을 더한 숫자라고 정의하자.\n",
    "\n",
    "예를 들어\n",
    "\n",
    "d(91) = 9 + 1 + 91 = 101\n",
    "이 때, n을 d(n)의 제네레이터(generator)라고 한다. 위의 예에서 91은 101의 제네레이터이다.\n",
    "\n",
    "어떤 숫자들은 하나 이상의 제네레이터를 가지고 있는데, 101의 제네레이터는 91 뿐 아니라 100도 있다. 그런데 반대로, 제네레이터가 없는 숫자들도 있으며, 이런 숫자를 인도의 수학자 Kaprekar가 셀프 넘버(self-number)라 이름 붙였다. 예를 들어 1,3,5,7,9,20,31 은 셀프 넘버 들이다.\n",
    "\n",
    "1 이상이고 5000 보다 작은 모든 셀프 넘버들의 합을 구하라.\n"
   ]
  },
  {
   "cell_type": "markdown",
   "metadata": {},
   "source": [
    "### Numpy + Cuda"
   ]
  },
  {
   "cell_type": "code",
   "execution_count": 32,
   "metadata": {
    "collapsed": false,
    "scrolled": false
   },
   "outputs": [
    {
     "name": "stdout",
     "output_type": "stream",
     "text": [
      "1227365\n"
     ]
    }
   ],
   "source": [
    "import numpy as np\n",
    "from accelerate.cuda import cuda\n",
    "\n",
    "@cuda.jit(argtypes=[cuda.numba.i4[:], cuda.numba.i4[:]])\n",
    "def cuda_generate(a, b):\n",
    "    i = cuda.grid(1)\n",
    "    n = a[i]\n",
    "    s = 0\n",
    "    while n > 0:\n",
    "        s += n%10\n",
    "        n = int(n/10)\n",
    "    b[i] = s + a[i]\n",
    "\n",
    "griddim = 50, 1\n",
    "blockdim = 100, 1, 1\n",
    "\n",
    "N = griddim[0] * blockdim[0]\n",
    "a = np.array(range(1,5001), dtype=np.int32)\n",
    "b = np.empty_like(a)\n",
    "\n",
    "cuda_generate_configured = cuda_generate.configure(griddim, blockdim)\n",
    "cuda_generate_configured(a, b)\n",
    "print(sum(np.setdiff1d(a,b)))"
   ]
  },
  {
   "cell_type": "markdown",
   "metadata": {},
   "source": [
    "### Python3"
   ]
  },
  {
   "cell_type": "code",
   "execution_count": 1,
   "metadata": {
    "collapsed": false,
    "scrolled": true
   },
   "outputs": [
    {
     "name": "stdout",
     "output_type": "stream",
     "text": [
      "1227365\n"
     ]
    }
   ],
   "source": [
    "generate = lambda n : n + sum([int(x) for x in str(n)])\n",
    "print(sum(set(range(1, 5000)) - set([generate(x) for x in range(1, 5000)])))"
   ]
  },
  {
   "cell_type": "markdown",
   "metadata": {},
   "source": [
    "### Haskell"
   ]
  },
  {
   "cell_type": "code",
   "execution_count": 2,
   "metadata": {
    "collapsed": false
   },
   "outputs": [
    {
     "data": {
      "text/plain": [
       "1227365"
      ]
     },
     "metadata": {},
     "output_type": "display_data"
    }
   ],
   "source": [
    "import Data.Char\n",
    "import Data.List\n",
    "generate n = n + sum [digitToInt x | x <- show n]\n",
    "print $ sum $ [1..4999] \\\\ [generate x|x<-[1..4999]] "
   ]
  }
 ],
 "metadata": {
  "kernelspec": {
   "display_name": "Python 3",
   "language": "python",
   "name": "python3"
  },
  "language_info": {
   "codemirror_mode": {
    "name": "ipython",
    "version": 3
   },
   "file_extension": ".py",
   "mimetype": "text/x-python",
   "name": "python",
   "nbconvert_exporter": "python",
   "pygments_lexer": "ipython3",
   "version": "3.5.1"
  }
 },
 "nbformat": 4,
 "nbformat_minor": 0
}
