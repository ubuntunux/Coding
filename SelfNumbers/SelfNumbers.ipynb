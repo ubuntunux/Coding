{
 "cells": [
  {
   "cell_type": "markdown",
   "metadata": {},
   "source": [
    "### Numpy + Cuda"
   ]
  },
  {
   "cell_type": "code",
   "execution_count": 32,
   "metadata": {
    "collapsed": false,
    "scrolled": false
   },
   "outputs": [
    {
     "name": "stdout",
     "output_type": "stream",
     "text": [
      "1227365\n"
     ]
    }
   ],
   "source": [
    "import numpy as np\n",
    "from accelerate.cuda import cuda\n",
    "\n",
    "@cuda.jit(argtypes=[cuda.numba.i4[:], cuda.numba.i4[:]])\n",
    "def cuda_generate(a, b):\n",
    "    i = cuda.grid(1)\n",
    "    n = a[i]\n",
    "    s = 0\n",
    "    while n > 0:\n",
    "        s += n%10\n",
    "        n = int(n/10)\n",
    "    b[i] = s + a[i]\n",
    "\n",
    "griddim = 50, 1\n",
    "blockdim = 100, 1, 1\n",
    "\n",
    "N = griddim[0] * blockdim[0]\n",
    "a = np.array(range(1,5001), dtype=np.int32)\n",
    "b = np.empty_like(a)\n",
    "\n",
    "cuda_generate_configured = cuda_generate.configure(griddim, blockdim)\n",
    "cuda_generate_configured(a, b)\n",
    "print(sum(np.setdiff1d(a,b)))"
   ]
  },
  {
   "cell_type": "markdown",
   "metadata": {},
   "source": [
    "### Python3"
   ]
  },
  {
   "cell_type": "code",
   "execution_count": 1,
   "metadata": {
    "collapsed": false,
    "scrolled": true
   },
   "outputs": [
    {
     "name": "stdout",
     "output_type": "stream",
     "text": [
      "1227365\n"
     ]
    }
   ],
   "source": [
    "generate = lambda n : n + sum([int(x) for x in str(n)])\n",
    "print(sum(set(range(1, 5000)) - set([generate(x) for x in range(1, 5000)])))"
   ]
  },
  {
   "cell_type": "markdown",
   "metadata": {},
   "source": [
    "### Haskell"
   ]
  },
  {
   "cell_type": "code",
   "execution_count": 2,
   "metadata": {
    "collapsed": false
   },
   "outputs": [
    {
     "data": {
      "text/plain": [
       "1227365"
      ]
     },
     "metadata": {},
     "output_type": "display_data"
    }
   ],
   "source": [
    "import Data.Char\n",
    "import Data.List\n",
    "generate n = n + sum [digitToInt x | x <- show n]\n",
    "print $ sum $ [1..4999] \\\\ [generate x|x<-[1..4999]] "
   ]
  }
 ],
 "metadata": {
  "kernelspec": {
   "display_name": "Python 3",
   "language": "python",
   "name": "python3"
  },
  "language_info": {
   "codemirror_mode": {
    "name": "ipython",
    "version": 3
   },
   "file_extension": ".py",
   "mimetype": "text/x-python",
   "name": "python",
   "nbconvert_exporter": "python",
   "pygments_lexer": "ipython3",
   "version": "3.5.1"
  }
 },
 "nbformat": 4,
 "nbformat_minor": 0
}
