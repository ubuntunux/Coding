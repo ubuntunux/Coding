{
 "cells": [
  {
   "cell_type": "code",
   "execution_count": 136,
   "metadata": {
    "collapsed": false,
    "scrolled": false
   },
   "outputs": [
    {
     "name": "stderr",
     "output_type": "stream",
     "text": [
      "WARNING: redefining constant generate_kernel\n"
     ]
    },
    {
     "name": "stdout",
     "output_type": "stream",
     "text": [
      "2270\n"
     ]
    }
   ],
   "source": [
    "import OpenCL\n",
    "const cl = OpenCL\n",
    "\n",
    "const generate_kernel = \"\n",
    "__kernel void generate(__global const int *a,\n",
    "                     __global int *b)\n",
    "{\n",
    "    int gid = get_global_id(0);\n",
    "    int nAcc = a[gid];\n",
    "    int nSum = 0;\n",
    "    while(nAcc > 0) {\n",
    "        nSum += (nAcc % 10);\n",
    "        nAcc /= 10; \n",
    "    }\n",
    "    b[gid] = nSum + a[gid];\n",
    "}\n",
    "\"\n",
    "\n",
    "a = Array(1:5000)\n",
    "b = rand(Int, 5000)\n",
    "device, ctx, queue = cl.create_compute_context()\n",
    "\n",
    "a_buff = cl.Buffer(Int, ctx, (:r, :copy), hostbuf=a)\n",
    "b_buff = cl.Buffer(Int, ctx, :w, length(a))\n",
    "\n",
    "prog = cl.Program(ctx, source=generate_kernel) |> cl.build!\n",
    "kern = cl.Kernel(prog, \"generate\")\n",
    "\n",
    "cl.call(queue, kern, size(a), nothing, a_buff, b_buff)\n",
    "\n",
    "result = cl.read(queue, b_buff)\n",
    "#println(result[4001:4100])\n",
    "println(length(union(result)))"
   ]
  },
  {
   "cell_type": "code",
   "execution_count": 38,
   "metadata": {
    "collapsed": false,
    "scrolled": true
   },
   "outputs": [
    {
     "name": "stdout",
     "output_type": "stream",
     "text": [
      "x : [ 0.  1.  2.  3.  4.  5.  6.  7.  8.  9.]\n",
      "result : [  0.   1.   4.   9.  16.  25.  36.  49.  64.  81.]\n"
     ]
    }
   ],
   "source": [
    "from __future__ import print_function\n",
    "import numpy as np\n",
    "from numba import *\n",
    "from timeit import default_timer as time\n",
    "\n",
    "@cuda.jit(argtypes=[f4[:], f4[:], f4[:]])\n",
    "def cuda_sum(a, b, c):\n",
    "    i = cuda.grid(1)\n",
    "    c[i] = a[i] + b[i]\n",
    "\n",
    "griddim = 50, 1\n",
    "blockdim = 32, 1, 1\n",
    "N = griddim[0] * blockdim[0]\n",
    "print(\"N\", N)\n",
    "cuda_sum_configured = cuda_sum.configure(griddim, blockdim)\n",
    "a = np.array(np.random.random(N), dtype=np.float32)\n",
    "b = np.array(np.random.random(N), dtype=np.float32)\n",
    "c = np.empty_like(a)\n",
    "\n",
    "ts = time()\n",
    "cuda_sum_configured(a, b, c)\n",
    "te = time()\n",
    "print(te - ts)\n",
    "assert (a + b == c).all()"
   ]
  }
 ],
 "metadata": {
  "kernelspec": {
   "display_name": "Python 3",
   "language": "python",
   "name": "python3"
  },
  "language_info": {
   "codemirror_mode": {
    "name": "ipython",
    "version": 3
   },
   "file_extension": ".py",
   "mimetype": "text/x-python",
   "name": "python",
   "nbconvert_exporter": "python",
   "pygments_lexer": "ipython3",
   "version": "3.5.1"
  }
 },
 "nbformat": 4,
 "nbformat_minor": 0
}
